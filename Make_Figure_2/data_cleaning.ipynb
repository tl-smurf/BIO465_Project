{
 "cells": [
  {
   "cell_type": "code",
   "execution_count": 1,
   "metadata": {},
   "outputs": [],
   "source": [
    "import pandas as pd"
   ]
  },
  {
   "cell_type": "code",
   "execution_count": 3,
   "metadata": {},
   "outputs": [],
   "source": [
    "df = pd.read_csv('Tidy_Cells_DDM_Normalized_Proteins.tsv', delimiter='\\t')"
   ]
  },
  {
   "cell_type": "markdown",
   "metadata": {},
   "source": [
    "### Remove Contaminants"
   ]
  },
  {
   "cell_type": "code",
   "execution_count": 4,
   "metadata": {},
   "outputs": [
    {
     "data": {
      "text/plain": [
       "13"
      ]
     },
     "execution_count": 4,
     "metadata": {},
     "output_type": "execute_result"
    }
   ],
   "source": [
    "df[df['Contaminant'] == True]['Accession'].nunique()  # this is the number of proteins that are contaminants"
   ]
  },
  {
   "cell_type": "code",
   "execution_count": 5,
   "metadata": {},
   "outputs": [],
   "source": [
    "df = df[df['Contaminant'] == False]  # remove the contaminants"
   ]
  },
  {
   "cell_type": "markdown",
   "metadata": {},
   "source": [
    "### Drop Medium Confidence Proteins"
   ]
  },
  {
   "cell_type": "code",
   "execution_count": 6,
   "metadata": {},
   "outputs": [
    {
     "data": {
      "text/plain": [
       "203"
      ]
     },
     "execution_count": 6,
     "metadata": {},
     "output_type": "execute_result"
    }
   ],
   "source": [
    "df[df['Protein FDR Confidence: Combined'] == 'Medium']['Accession'].nunique()  # this is the number of proteins with medium confidence"
   ]
  },
  {
   "cell_type": "code",
   "execution_count": 7,
   "metadata": {},
   "outputs": [],
   "source": [
    "df = df[df['Protein FDR Confidence: Combined'] == 'High'] # keep only the proteins with high confidence"
   ]
  },
  {
   "cell_type": "code",
   "execution_count": 8,
   "metadata": {},
   "outputs": [
    {
     "data": {
      "text/plain": [
       "1605"
      ]
     },
     "execution_count": 8,
     "metadata": {},
     "output_type": "execute_result"
    }
   ],
   "source": [
    "df['Accession'].nunique() # the number of proteins left after filtering"
   ]
  },
  {
   "cell_type": "markdown",
   "metadata": {},
   "source": [
    "### Keep Relevant Columns"
   ]
  },
  {
   "cell_type": "code",
   "execution_count": 9,
   "metadata": {},
   "outputs": [],
   "source": [
    "df = df[['Accession', 'Sample', 'Abundances (Normalized):']]"
   ]
  },
  {
   "cell_type": "code",
   "execution_count": 10,
   "metadata": {},
   "outputs": [],
   "source": [
    "df = df.pivot(index='Sample', columns='Accession', values='Abundances (Normalized):')"
   ]
  },
  {
   "cell_type": "code",
   "execution_count": 11,
   "metadata": {},
   "outputs": [],
   "source": [
    "df['Sample'] = df.index\n",
    "df = df.reset_index(drop=True)"
   ]
  },
  {
   "cell_type": "code",
   "execution_count": 13,
   "metadata": {},
   "outputs": [],
   "source": [
    "df_batches = pd.read_csv('Cells_DDM_Normalized_InputFiles_Reordered.tsv', delimiter='\\t')"
   ]
  },
  {
   "cell_type": "code",
   "execution_count": 14,
   "metadata": {},
   "outputs": [
    {
     "data": {
      "text/plain": [
       "_QCChip_     83\n",
       "_RedChip_    77\n",
       "_QCHeLa_      9\n",
       "Name: Chip, dtype: int64"
      ]
     },
     "execution_count": 14,
     "metadata": {},
     "output_type": "execute_result"
    }
   ],
   "source": [
    "df_batches['Chip'] = df_batches['File Name'].str.extract(r'(_[a-zA-Z]*_)')\n",
    "df_batches['Chip'].value_counts()"
   ]
  },
  {
   "cell_type": "code",
   "execution_count": 15,
   "metadata": {},
   "outputs": [
    {
     "data": {
      "text/html": [
       "<div>\n",
       "<style scoped>\n",
       "    .dataframe tbody tr th:only-of-type {\n",
       "        vertical-align: middle;\n",
       "    }\n",
       "\n",
       "    .dataframe tbody tr th {\n",
       "        vertical-align: top;\n",
       "    }\n",
       "\n",
       "    .dataframe thead tr th {\n",
       "        text-align: left;\n",
       "    }\n",
       "\n",
       "    .dataframe thead tr:last-of-type th {\n",
       "        text-align: right;\n",
       "    }\n",
       "</style>\n",
       "<table border=\"1\" class=\"dataframe\">\n",
       "  <thead>\n",
       "    <tr>\n",
       "      <th></th>\n",
       "      <th>Chip</th>\n",
       "      <th>Creation Date</th>\n",
       "    </tr>\n",
       "    <tr>\n",
       "      <th></th>\n",
       "      <th>unique</th>\n",
       "      <th>unique</th>\n",
       "    </tr>\n",
       "    <tr>\n",
       "      <th>Chip</th>\n",
       "      <th></th>\n",
       "      <th></th>\n",
       "    </tr>\n",
       "  </thead>\n",
       "  <tbody>\n",
       "    <tr>\n",
       "      <th>_QCChip_</th>\n",
       "      <td>[_QCChip_]</td>\n",
       "      <td>[13, 14]</td>\n",
       "    </tr>\n",
       "    <tr>\n",
       "      <th>_QCHeLa_</th>\n",
       "      <td>[_QCHeLa_]</td>\n",
       "      <td>[6]</td>\n",
       "    </tr>\n",
       "    <tr>\n",
       "      <th>_RedChip_</th>\n",
       "      <td>[_RedChip_]</td>\n",
       "      <td>[14, 15]</td>\n",
       "    </tr>\n",
       "  </tbody>\n",
       "</table>\n",
       "</div>"
      ],
      "text/plain": [
       "                  Chip Creation Date\n",
       "                unique        unique\n",
       "Chip                                \n",
       "_QCChip_    [_QCChip_]      [13, 14]\n",
       "_QCHeLa_    [_QCHeLa_]           [6]\n",
       "_RedChip_  [_RedChip_]      [14, 15]"
      ]
     },
     "execution_count": 15,
     "metadata": {},
     "output_type": "execute_result"
    }
   ],
   "source": [
    "df_batches['Creation Date'] = pd.to_datetime(df_batches['Creation Date'])\n",
    "df_batches['Creation Date'] = pd.DatetimeIndex(df_batches['Creation Date']).day\n",
    "df_batches.groupby('Chip')[['Chip','Creation Date']].agg(['unique'])"
   ]
  },
  {
   "cell_type": "code",
   "execution_count": 16,
   "metadata": {},
   "outputs": [],
   "source": [
    "df_batches = df_batches[['File ID', 'Chip', 'Creation Date', 'Side']]"
   ]
  },
  {
   "cell_type": "code",
   "execution_count": 17,
   "metadata": {},
   "outputs": [],
   "source": [
    "df_combined = pd.merge(df, df_batches, left_on='Sample', right_on='File ID', how='left')\n",
    "df = df_combined"
   ]
  },
  {
   "cell_type": "markdown",
   "metadata": {},
   "source": [
    "### Remove proteins that aren't in enough cells"
   ]
  },
  {
   "cell_type": "code",
   "execution_count": 18,
   "metadata": {},
   "outputs": [],
   "source": [
    "proteins = list(df.drop(['Sample', 'File ID', 'Chip', 'Creation Date', 'Side'], axis=1).columns)"
   ]
  },
  {
   "cell_type": "code",
   "execution_count": 23,
   "metadata": {},
   "outputs": [
    {
     "data": {
      "text/plain": [
       "(988,)"
      ]
     },
     "execution_count": 23,
     "metadata": {},
     "output_type": "execute_result"
    }
   ],
   "source": [
    "n_cells = df[proteins].index.shape[0]\n",
    "perc_cells_w_protein = (n_cells - df[proteins].isna().sum()) / n_cells\n",
    "perc_cells_w_protein[perc_cells_w_protein < 0.5].shape  # the number of proteins that are in less than 50% of the cells"
   ]
  },
  {
   "cell_type": "code",
   "execution_count": 24,
   "metadata": {},
   "outputs": [],
   "source": [
    "proteins_to_drop = perc_cells_w_protein[perc_cells_w_protein < 0.5].index"
   ]
  },
  {
   "cell_type": "code",
   "execution_count": 25,
   "metadata": {},
   "outputs": [],
   "source": [
    "df = df.drop(proteins_to_drop, axis=1)"
   ]
  },
  {
   "cell_type": "markdown",
   "metadata": {},
   "source": [
    "### Remove cells without enough proteins"
   ]
  },
  {
   "cell_type": "code",
   "execution_count": 26,
   "metadata": {},
   "outputs": [],
   "source": [
    "proteins = list(df.drop(['Sample', 'File ID', 'Chip', 'Creation Date', 'Side'], axis=1).columns)"
   ]
  },
  {
   "cell_type": "code",
   "execution_count": 27,
   "metadata": {},
   "outputs": [],
   "source": [
    "df.index = df['Sample']"
   ]
  },
  {
   "cell_type": "code",
   "execution_count": 33,
   "metadata": {},
   "outputs": [
    {
     "data": {
      "text/plain": [
       "Index(['F1', 'F131', 'F14'], dtype='object', name='Sample')"
      ]
     },
     "execution_count": 33,
     "metadata": {},
     "output_type": "execute_result"
    }
   ],
   "source": [
    "n_proteins = df[proteins].transpose().index.shape[0]\n",
    "perc_proteins_in_cells = (n_proteins - df[proteins].transpose().isna().sum()) / n_proteins\n",
    "cells_to_drop = perc_proteins_in_cells[perc_proteins_in_cells < 0.5].index\n",
    "cells_to_drop"
   ]
  },
  {
   "cell_type": "code",
   "execution_count": 34,
   "metadata": {},
   "outputs": [],
   "source": [
    "df = df.transpose().drop(cells_to_drop, axis=1)"
   ]
  },
  {
   "cell_type": "code",
   "execution_count": 35,
   "metadata": {},
   "outputs": [],
   "source": [
    "df = df.transpose()"
   ]
  },
  {
   "cell_type": "code",
   "execution_count": 36,
   "metadata": {},
   "outputs": [
    {
     "data": {
      "text/html": [
       "<div>\n",
       "<style scoped>\n",
       "    .dataframe tbody tr th:only-of-type {\n",
       "        vertical-align: middle;\n",
       "    }\n",
       "\n",
       "    .dataframe tbody tr th {\n",
       "        vertical-align: top;\n",
       "    }\n",
       "\n",
       "    .dataframe thead th {\n",
       "        text-align: right;\n",
       "    }\n",
       "</style>\n",
       "<table border=\"1\" class=\"dataframe\">\n",
       "  <thead>\n",
       "    <tr style=\"text-align: right;\">\n",
       "      <th></th>\n",
       "      <th>B5ME19</th>\n",
       "      <th>O00231</th>\n",
       "      <th>O00299</th>\n",
       "      <th>O00422</th>\n",
       "      <th>O00571</th>\n",
       "      <th>O00764</th>\n",
       "      <th>O14745</th>\n",
       "      <th>O14818</th>\n",
       "      <th>O15355</th>\n",
       "      <th>O15372</th>\n",
       "      <th>...</th>\n",
       "      <th>Q9Y3U8</th>\n",
       "      <th>Q9Y490</th>\n",
       "      <th>Q9Y4L1</th>\n",
       "      <th>Q9Y5B9</th>\n",
       "      <th>Q9Y617</th>\n",
       "      <th>Sample</th>\n",
       "      <th>File ID</th>\n",
       "      <th>Chip</th>\n",
       "      <th>Creation Date</th>\n",
       "      <th>Side</th>\n",
       "    </tr>\n",
       "    <tr>\n",
       "      <th>Sample</th>\n",
       "      <th></th>\n",
       "      <th></th>\n",
       "      <th></th>\n",
       "      <th></th>\n",
       "      <th></th>\n",
       "      <th></th>\n",
       "      <th></th>\n",
       "      <th></th>\n",
       "      <th></th>\n",
       "      <th></th>\n",
       "      <th></th>\n",
       "      <th></th>\n",
       "      <th></th>\n",
       "      <th></th>\n",
       "      <th></th>\n",
       "      <th></th>\n",
       "      <th></th>\n",
       "      <th></th>\n",
       "      <th></th>\n",
       "      <th></th>\n",
       "      <th></th>\n",
       "    </tr>\n",
       "  </thead>\n",
       "  <tbody>\n",
       "    <tr>\n",
       "      <th>F10</th>\n",
       "      <td>3373690.27517</td>\n",
       "      <td>2991493.2171</td>\n",
       "      <td>1576766.184773</td>\n",
       "      <td>4786781.858305</td>\n",
       "      <td>10751392.024809</td>\n",
       "      <td>2687357.162864</td>\n",
       "      <td>1397848.460283</td>\n",
       "      <td>NaN</td>\n",
       "      <td>NaN</td>\n",
       "      <td>1004919.866468</td>\n",
       "      <td>...</td>\n",
       "      <td>6191537.311871</td>\n",
       "      <td>10334789.410666</td>\n",
       "      <td>201631429.799781</td>\n",
       "      <td>11285654.752135</td>\n",
       "      <td>1323828.196699</td>\n",
       "      <td>F10</td>\n",
       "      <td>F10</td>\n",
       "      <td>_QCChip_</td>\n",
       "      <td>14.0</td>\n",
       "      <td>Left</td>\n",
       "    </tr>\n",
       "    <tr>\n",
       "      <th>F100</th>\n",
       "      <td>2299355.790048</td>\n",
       "      <td>2241388.630235</td>\n",
       "      <td>NaN</td>\n",
       "      <td>NaN</td>\n",
       "      <td>16039892.331403</td>\n",
       "      <td>NaN</td>\n",
       "      <td>2025436.410945</td>\n",
       "      <td>1501850.376526</td>\n",
       "      <td>51378934.023496</td>\n",
       "      <td>957970.594455</td>\n",
       "      <td>...</td>\n",
       "      <td>2808157.05697</td>\n",
       "      <td>17164232.680574</td>\n",
       "      <td>78660913.994576</td>\n",
       "      <td>NaN</td>\n",
       "      <td>4925942.355848</td>\n",
       "      <td>F100</td>\n",
       "      <td>F100</td>\n",
       "      <td>_RedChip_</td>\n",
       "      <td>15.0</td>\n",
       "      <td>Right</td>\n",
       "    </tr>\n",
       "    <tr>\n",
       "      <th>F101</th>\n",
       "      <td>3113306.648528</td>\n",
       "      <td>1809834.035484</td>\n",
       "      <td>6120705.505014</td>\n",
       "      <td>5670456.799759</td>\n",
       "      <td>5583600.947291</td>\n",
       "      <td>3016982.482661</td>\n",
       "      <td>2792555.733788</td>\n",
       "      <td>2168849.683538</td>\n",
       "      <td>NaN</td>\n",
       "      <td>NaN</td>\n",
       "      <td>...</td>\n",
       "      <td>2877289.038176</td>\n",
       "      <td>6974637.699785</td>\n",
       "      <td>288871882.301377</td>\n",
       "      <td>12436373.747393</td>\n",
       "      <td>4420583.371715</td>\n",
       "      <td>F101</td>\n",
       "      <td>NaN</td>\n",
       "      <td>NaN</td>\n",
       "      <td>NaN</td>\n",
       "      <td>NaN</td>\n",
       "    </tr>\n",
       "    <tr>\n",
       "      <th>F102</th>\n",
       "      <td>1856249.798234</td>\n",
       "      <td>1944483.03957</td>\n",
       "      <td>4652592.705573</td>\n",
       "      <td>5736307.433317</td>\n",
       "      <td>9676142.786788</td>\n",
       "      <td>3968779.323402</td>\n",
       "      <td>6284356.472783</td>\n",
       "      <td>2174116.550347</td>\n",
       "      <td>NaN</td>\n",
       "      <td>901840.37001</td>\n",
       "      <td>...</td>\n",
       "      <td>5601243.514291</td>\n",
       "      <td>11443082.755791</td>\n",
       "      <td>245512837.390592</td>\n",
       "      <td>14401675.520609</td>\n",
       "      <td>5427335.083864</td>\n",
       "      <td>F102</td>\n",
       "      <td>F102</td>\n",
       "      <td>_RedChip_</td>\n",
       "      <td>15.0</td>\n",
       "      <td>Left</td>\n",
       "    </tr>\n",
       "    <tr>\n",
       "      <th>F103</th>\n",
       "      <td>2175885.871595</td>\n",
       "      <td>2219012.907581</td>\n",
       "      <td>3233294.323624</td>\n",
       "      <td>3313285.295724</td>\n",
       "      <td>10289915.281581</td>\n",
       "      <td>NaN</td>\n",
       "      <td>1092045.478096</td>\n",
       "      <td>858167.908599</td>\n",
       "      <td>42892793.438634</td>\n",
       "      <td>1344367.999387</td>\n",
       "      <td>...</td>\n",
       "      <td>3665115.377148</td>\n",
       "      <td>14310882.831074</td>\n",
       "      <td>165779607.52715</td>\n",
       "      <td>9431326.715832</td>\n",
       "      <td>2655200.200714</td>\n",
       "      <td>F103</td>\n",
       "      <td>NaN</td>\n",
       "      <td>NaN</td>\n",
       "      <td>NaN</td>\n",
       "      <td>NaN</td>\n",
       "    </tr>\n",
       "    <tr>\n",
       "      <th>...</th>\n",
       "      <td>...</td>\n",
       "      <td>...</td>\n",
       "      <td>...</td>\n",
       "      <td>...</td>\n",
       "      <td>...</td>\n",
       "      <td>...</td>\n",
       "      <td>...</td>\n",
       "      <td>...</td>\n",
       "      <td>...</td>\n",
       "      <td>...</td>\n",
       "      <td>...</td>\n",
       "      <td>...</td>\n",
       "      <td>...</td>\n",
       "      <td>...</td>\n",
       "      <td>...</td>\n",
       "      <td>...</td>\n",
       "      <td>...</td>\n",
       "      <td>...</td>\n",
       "      <td>...</td>\n",
       "      <td>...</td>\n",
       "      <td>...</td>\n",
       "    </tr>\n",
       "    <tr>\n",
       "      <th>F95</th>\n",
       "      <td>2150390.115804</td>\n",
       "      <td>1598873.50015</td>\n",
       "      <td>1758013.520807</td>\n",
       "      <td>656003.634326</td>\n",
       "      <td>15650965.126155</td>\n",
       "      <td>NaN</td>\n",
       "      <td>NaN</td>\n",
       "      <td>NaN</td>\n",
       "      <td>9591594.107522</td>\n",
       "      <td>991872.837533</td>\n",
       "      <td>...</td>\n",
       "      <td>5003449.498178</td>\n",
       "      <td>26530411.441392</td>\n",
       "      <td>NaN</td>\n",
       "      <td>NaN</td>\n",
       "      <td>NaN</td>\n",
       "      <td>F95</td>\n",
       "      <td>F95</td>\n",
       "      <td>_QCChip_</td>\n",
       "      <td>13.0</td>\n",
       "      <td>Right</td>\n",
       "    </tr>\n",
       "    <tr>\n",
       "      <th>F96</th>\n",
       "      <td>2835923.042279</td>\n",
       "      <td>1045652.777073</td>\n",
       "      <td>NaN</td>\n",
       "      <td>5428826.513596</td>\n",
       "      <td>8817327.012357</td>\n",
       "      <td>NaN</td>\n",
       "      <td>NaN</td>\n",
       "      <td>NaN</td>\n",
       "      <td>NaN</td>\n",
       "      <td>770715.672522</td>\n",
       "      <td>...</td>\n",
       "      <td>4037650.764888</td>\n",
       "      <td>13400416.107579</td>\n",
       "      <td>NaN</td>\n",
       "      <td>8484228.528682</td>\n",
       "      <td>2025257.360082</td>\n",
       "      <td>F96</td>\n",
       "      <td>F96</td>\n",
       "      <td>_QCChip_</td>\n",
       "      <td>13.0</td>\n",
       "      <td>Left</td>\n",
       "    </tr>\n",
       "    <tr>\n",
       "      <th>F97</th>\n",
       "      <td>2715682.633229</td>\n",
       "      <td>2016341.300724</td>\n",
       "      <td>1544609.600587</td>\n",
       "      <td>987079.080646</td>\n",
       "      <td>8698076.336869</td>\n",
       "      <td>1236266.020425</td>\n",
       "      <td>1632730.40379</td>\n",
       "      <td>NaN</td>\n",
       "      <td>3785285.870863</td>\n",
       "      <td>659903.1831</td>\n",
       "      <td>...</td>\n",
       "      <td>4982011.745528</td>\n",
       "      <td>23126100.340803</td>\n",
       "      <td>NaN</td>\n",
       "      <td>NaN</td>\n",
       "      <td>NaN</td>\n",
       "      <td>F97</td>\n",
       "      <td>F97</td>\n",
       "      <td>_QCChip_</td>\n",
       "      <td>13.0</td>\n",
       "      <td>Right</td>\n",
       "    </tr>\n",
       "    <tr>\n",
       "      <th>F98</th>\n",
       "      <td>1900367.444732</td>\n",
       "      <td>1739371.165916</td>\n",
       "      <td>3303242.208711</td>\n",
       "      <td>3718735.808203</td>\n",
       "      <td>6383898.749586</td>\n",
       "      <td>NaN</td>\n",
       "      <td>638719.762629</td>\n",
       "      <td>NaN</td>\n",
       "      <td>676955.504042</td>\n",
       "      <td>1469885.598492</td>\n",
       "      <td>...</td>\n",
       "      <td>2747351.490455</td>\n",
       "      <td>32340949.457398</td>\n",
       "      <td>NaN</td>\n",
       "      <td>6299264.272022</td>\n",
       "      <td>13905834.097086</td>\n",
       "      <td>F98</td>\n",
       "      <td>F98</td>\n",
       "      <td>_QCChip_</td>\n",
       "      <td>13.0</td>\n",
       "      <td>Left</td>\n",
       "    </tr>\n",
       "    <tr>\n",
       "      <th>F99</th>\n",
       "      <td>1516892.425169</td>\n",
       "      <td>1637539.971543</td>\n",
       "      <td>2808447.785966</td>\n",
       "      <td>768125.871265</td>\n",
       "      <td>8215432.262249</td>\n",
       "      <td>1714291.774016</td>\n",
       "      <td>NaN</td>\n",
       "      <td>NaN</td>\n",
       "      <td>557293.391413</td>\n",
       "      <td>1811353.144769</td>\n",
       "      <td>...</td>\n",
       "      <td>2156804.990652</td>\n",
       "      <td>21468571.535979</td>\n",
       "      <td>NaN</td>\n",
       "      <td>NaN</td>\n",
       "      <td>877784.93077</td>\n",
       "      <td>F99</td>\n",
       "      <td>F99</td>\n",
       "      <td>_QCChip_</td>\n",
       "      <td>13.0</td>\n",
       "      <td>Right</td>\n",
       "    </tr>\n",
       "  </tbody>\n",
       "</table>\n",
       "<p>171 rows × 622 columns</p>\n",
       "</div>"
      ],
      "text/plain": [
       "                B5ME19          O00231          O00299          O00422  \\\n",
       "Sample                                                                   \n",
       "F10      3373690.27517    2991493.2171  1576766.184773  4786781.858305   \n",
       "F100    2299355.790048  2241388.630235             NaN             NaN   \n",
       "F101    3113306.648528  1809834.035484  6120705.505014  5670456.799759   \n",
       "F102    1856249.798234   1944483.03957  4652592.705573  5736307.433317   \n",
       "F103    2175885.871595  2219012.907581  3233294.323624  3313285.295724   \n",
       "...                ...             ...             ...             ...   \n",
       "F95     2150390.115804   1598873.50015  1758013.520807   656003.634326   \n",
       "F96     2835923.042279  1045652.777073             NaN  5428826.513596   \n",
       "F97     2715682.633229  2016341.300724  1544609.600587   987079.080646   \n",
       "F98     1900367.444732  1739371.165916  3303242.208711  3718735.808203   \n",
       "F99     1516892.425169  1637539.971543  2808447.785966   768125.871265   \n",
       "\n",
       "                 O00571          O00764          O14745          O14818  \\\n",
       "Sample                                                                    \n",
       "F10     10751392.024809  2687357.162864  1397848.460283             NaN   \n",
       "F100    16039892.331403             NaN  2025436.410945  1501850.376526   \n",
       "F101     5583600.947291  3016982.482661  2792555.733788  2168849.683538   \n",
       "F102     9676142.786788  3968779.323402  6284356.472783  2174116.550347   \n",
       "F103    10289915.281581             NaN  1092045.478096   858167.908599   \n",
       "...                 ...             ...             ...             ...   \n",
       "F95     15650965.126155             NaN             NaN             NaN   \n",
       "F96      8817327.012357             NaN             NaN             NaN   \n",
       "F97      8698076.336869  1236266.020425   1632730.40379             NaN   \n",
       "F98      6383898.749586             NaN   638719.762629             NaN   \n",
       "F99      8215432.262249  1714291.774016             NaN             NaN   \n",
       "\n",
       "                 O15355          O15372  ...          Q9Y3U8           Q9Y490  \\\n",
       "Sample                                   ...                                    \n",
       "F10                 NaN  1004919.866468  ...  6191537.311871  10334789.410666   \n",
       "F100    51378934.023496   957970.594455  ...   2808157.05697  17164232.680574   \n",
       "F101                NaN             NaN  ...  2877289.038176   6974637.699785   \n",
       "F102                NaN    901840.37001  ...  5601243.514291  11443082.755791   \n",
       "F103    42892793.438634  1344367.999387  ...  3665115.377148  14310882.831074   \n",
       "...                 ...             ...  ...             ...              ...   \n",
       "F95      9591594.107522   991872.837533  ...  5003449.498178  26530411.441392   \n",
       "F96                 NaN   770715.672522  ...  4037650.764888  13400416.107579   \n",
       "F97      3785285.870863     659903.1831  ...  4982011.745528  23126100.340803   \n",
       "F98       676955.504042  1469885.598492  ...  2747351.490455  32340949.457398   \n",
       "F99       557293.391413  1811353.144769  ...  2156804.990652  21468571.535979   \n",
       "\n",
       "                  Q9Y4L1           Q9Y5B9           Q9Y617 Sample File ID  \\\n",
       "Sample                                                                      \n",
       "F10     201631429.799781  11285654.752135   1323828.196699    F10     F10   \n",
       "F100     78660913.994576              NaN   4925942.355848   F100    F100   \n",
       "F101    288871882.301377  12436373.747393   4420583.371715   F101     NaN   \n",
       "F102    245512837.390592  14401675.520609   5427335.083864   F102    F102   \n",
       "F103     165779607.52715   9431326.715832   2655200.200714   F103     NaN   \n",
       "...                  ...              ...              ...    ...     ...   \n",
       "F95                  NaN              NaN              NaN    F95     F95   \n",
       "F96                  NaN   8484228.528682   2025257.360082    F96     F96   \n",
       "F97                  NaN              NaN              NaN    F97     F97   \n",
       "F98                  NaN   6299264.272022  13905834.097086    F98     F98   \n",
       "F99                  NaN              NaN     877784.93077    F99     F99   \n",
       "\n",
       "             Chip Creation Date   Side  \n",
       "Sample                                  \n",
       "F10      _QCChip_          14.0   Left  \n",
       "F100    _RedChip_          15.0  Right  \n",
       "F101          NaN           NaN    NaN  \n",
       "F102    _RedChip_          15.0   Left  \n",
       "F103          NaN           NaN    NaN  \n",
       "...           ...           ...    ...  \n",
       "F95      _QCChip_          13.0  Right  \n",
       "F96      _QCChip_          13.0   Left  \n",
       "F97      _QCChip_          13.0  Right  \n",
       "F98      _QCChip_          13.0   Left  \n",
       "F99      _QCChip_          13.0  Right  \n",
       "\n",
       "[171 rows x 622 columns]"
      ]
     },
     "execution_count": 36,
     "metadata": {},
     "output_type": "execute_result"
    }
   ],
   "source": [
    "df"
   ]
  },
  {
   "cell_type": "code",
   "execution_count": 38,
   "metadata": {},
   "outputs": [],
   "source": [
    "df.to_csv('cleaned_filtered_data.csv', index=False)"
   ]
  }
 ],
 "metadata": {
  "interpreter": {
   "hash": "c2761b779fb328de677b2fa3e6d95ee8a27d10bb93fa35fd3072e8c9f579f4a3"
  },
  "kernelspec": {
   "display_name": "Python 3 (ipykernel)",
   "language": "python",
   "name": "python3"
  },
  "language_info": {
   "codemirror_mode": {
    "name": "ipython",
    "version": 3
   },
   "file_extension": ".py",
   "mimetype": "text/x-python",
   "name": "python",
   "nbconvert_exporter": "python",
   "pygments_lexer": "ipython3",
   "version": "3.9.7"
  }
 },
 "nbformat": 4,
 "nbformat_minor": 2
}
